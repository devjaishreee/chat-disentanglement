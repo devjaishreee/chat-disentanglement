{
 "cells": [
  {
   "cell_type": "code",
   "execution_count": null,
   "id": "load-and-embed",
   "metadata": {},
   "outputs": [],
   "source": [
    "import json\n",
    "import numpy as np\n",
    "import matplotlib.pyplot as plt\n",
    "import umap.umap_ as umap\n",
    "from sklearn.preprocessing import LabelEncoder\n",
    "from disentangler.embedder import Embedder\n",
    "from disentangler.clusterer import Clusterer\n",
    "\n",
    "with open('../sample_data/sample_chat.json') as f:\n",
    "    data = json.load(f)\n",
    "\n",
    "utterances = [d['message'] for d in data]\n",
    "\n",
    "embedder = Embedder()\n",
    "embeddings = embedder.encode(utterances)\n",
    "\n",
    "clusterer = Clusterer(distance_threshold=1.2)\n",
    "labels = clusterer.cluster(np.array(embeddings))\n",
    "\n",
    "umap_model = umap.UMAP(n_neighbors=5, min_dist=0.3, metric='cosine')\n",
    "umap_proj = umap_model.fit_transform(embeddings)\n",
    "\n",
    "plt.figure(figsize=(10, 7))\n",
    "plt.scatter(umap_proj[:, 0], umap_proj[:, 1], c=labels, cmap='tab10', s=60, edgecolors='k')\n",
    "for i, text in enumerate(utterances):\n",
    "    plt.annotate(text[:30] + ('...' if len(text) > 30 else ''), (umap_proj[i, 0], umap_proj[i, 1]), fontsize=8)\n",
    "plt.title('UMAP Projection of Chat Topics')\n",
    "plt.xlabel('UMAP-1')\n",
    "plt.ylabel('UMAP-2')\n",
    "plt.grid(True)\n",
    "plt.show()"
   ]
  }
 ],
 "metadata": {},
 "nbformat": 4,
 "nbformat_minor": 5
}